{
 "cells": [
  {
   "cell_type": "markdown",
   "id": "56caa433",
   "metadata": {
    "id": "ml9EFSASPWvD"
   },
   "source": [
    "# Initialization (RUN ALL BELLOW)"
   ]
  },
  {
   "cell_type": "code",
   "execution_count": null,
   "id": "ee6a1c5c",
   "metadata": {
    "colab": {
     "base_uri": "https://localhost:8080/"
    },
    "id": "LFbaHihDXn-o",
    "outputId": "1ede4039-bbbc-4198-a746-17df857556ea"
   },
   "outputs": [
    {
     "name": "stdout",
     "output_type": "stream",
     "text": [
      "Collecting fmpsdk\n",
      "  Downloading fmpsdk-20250102.0-py2.py3-none-any.whl.metadata (2.3 kB)\n",
      "Collecting python-dotenv (from fmpsdk)\n",
      "  Downloading python_dotenv-1.1.0-py3-none-any.whl.metadata (24 kB)\n",
      "Requirement already satisfied: requests in /usr/local/lib/python3.11/dist-packages (from fmpsdk) (2.32.3)\n",
      "Requirement already satisfied: charset-normalizer<4,>=2 in /usr/local/lib/python3.11/dist-packages (from requests->fmpsdk) (3.4.1)\n",
      "Requirement already satisfied: idna<4,>=2.5 in /usr/local/lib/python3.11/dist-packages (from requests->fmpsdk) (3.10)\n",
      "Requirement already satisfied: urllib3<3,>=1.21.1 in /usr/local/lib/python3.11/dist-packages (from requests->fmpsdk) (2.3.0)\n",
      "Requirement already satisfied: certifi>=2017.4.17 in /usr/local/lib/python3.11/dist-packages (from requests->fmpsdk) (2025.1.31)\n",
      "Downloading fmpsdk-20250102.0-py2.py3-none-any.whl (26 kB)\n",
      "Downloading python_dotenv-1.1.0-py3-none-any.whl (20 kB)\n",
      "Installing collected packages: python-dotenv, fmpsdk\n",
      "Successfully installed fmpsdk-20250102.0 python-dotenv-1.1.0\n"
     ]
    }
   ],
   "source": [
    "pip install fmpsdk"
   ]
  },
  {
   "cell_type": "code",
   "execution_count": 19,
   "id": "d377b731",
   "metadata": {
    "id": "52a67540"
   },
   "outputs": [],
   "source": [
    "import pandas as pd\n",
    "from urllib.request import urlopen\n",
    "import certifi\n",
    "import ssl\n",
    "import json\n",
    "import fmpsdk\n",
    "from dateutil.relativedelta import relativedelta\n",
    "from openpyxl.utils import get_column_letter\n",
    "from google.colab import files\n",
    "from tqdm import tqdm\n",
    "\n",
    "# Create a secure SSL context\n",
    "context_init = ssl.create_default_context(cafile=certifi.where())\n"
   ]
  },
  {
   "cell_type": "markdown",
   "id": "b792d0f3",
   "metadata": {
    "id": "G3dCqr-JQCnf"
   },
   "source": [
    "Data extraction functions:"
   ]
  },
  {
   "cell_type": "code",
   "execution_count": 12,
   "id": "565cdeb6",
   "metadata": {
    "id": "ffbd68ad"
   },
   "outputs": [],
   "source": [
    "def get_data_url(url):\n",
    "    response = urlopen(url, context=context_init)\n",
    "    data = response.read().decode(\"utf-8\")\n",
    "    data=json.loads(data)\n",
    "    return pd.DataFrame(data)\n",
    "\n",
    "def get_org_chart(ticker):\n",
    "    apikey='2723105eaade3c1ca8d66ca5c567b590'\n",
    "    url = (f'https://financialmodelingprep.com/api/v3/key-executives/{ticker}?apikey={apikey}')\n",
    "    df_=get_data_url(url)\n",
    "    df_=df_[['title']+['name']]\n",
    "    df_=df_.drop_duplicates(subset='name')\n",
    "    #df_=df_.drop_duplicates(subset='title', inplace=True)\n",
    "    return df_\n",
    "\n",
    "def stock_price(ticker):\n",
    "    try:\n",
    "        stock_prices = fmpsdk.historical_price_full(apikey='2723105eaade3c1ca8d66ca5c567b590', symbol=ticker)\n",
    "        closing_prices = [price['close'] for price in stock_prices]\n",
    "\n",
    "        weekly_stock_variation = (closing_prices[0]-closing_prices[7])/closing_prices[7]\n",
    "\n",
    "        if weekly_stock_variation >=0:\n",
    "            return \"+\"+str(round(weekly_stock_variation*100,2))+\"%\"\n",
    "        else:\n",
    "            return str(round(weekly_stock_variation*100,2))+\"%\"\n",
    "\n",
    "    except Exception as e:\n",
    "        print(f\"Unexpected error: {e}\")\n",
    "        return \"FAIL\"\n",
    "\n",
    "\n",
    "def data_inventory(ticker,period):\n",
    "\n",
    "    apikey='2723105eaade3c1ca8d66ca5c567b590'\n",
    "\n",
    "    symbol: str = ticker\n",
    "\n",
    "    try:\n",
    "        data_BSS=pd.DataFrame(fmpsdk.balance_sheet_statement(apikey=apikey, symbol=symbol, period=period))\n",
    "        #return '$'+str((data_BSS['inventory'].iloc[0])/1000000)+\"M\"\n",
    "        return data_BSS['inventory'].iloc[0]\n",
    "    except Exception as e:\n",
    "        print(f\"Unexpected error: {e}\")\n",
    "        return \"FAIL\"\n",
    "\n",
    "\n",
    "def get_latest_earnings_transcript(ticker):\n",
    "    apikey = '2723105eaade3c1ca8d66ca5c567b590'\n",
    "\n",
    "    url = f'https://financialmodelingprep.com/api/v3/earning_call_transcript/{ticker}?apikey={apikey}'\n",
    "\n",
    "    try:\n",
    "        data = get_data_url(url)\n",
    "        date_latest=pd.to_datetime(data[\"date\"].iloc[0])\n",
    "        date_next=date_latest + relativedelta(months=3)\n",
    "        transcript=data['content'].iloc[0]\n",
    "        return transcript, date_next\n",
    "    except Exception as e:\n",
    "        print(f\"Unexpected error: {e}\")\n",
    "        return \"FAIL\"\n",
    "\n",
    "def return_company_profile(tck):\n",
    "    # Get company profile and industry from the ticker\n",
    "    company_info = fmpsdk.company_profile(symbol=tck, apikey='2723105eaade3c1ca8d66ca5c567b590')\n",
    "    try:\n",
    "        return pd.DataFrame([company_info[0]])\n",
    "    except Exception as e:\n",
    "        print(f\"Unexpected error: {e}\")\n",
    "        return pd.DataFrame([{'companyName': 'FAIL', 'industry': 'FAIL'}])\n",
    "\n",
    "def new_executive(tck):\n",
    "    return 'in dev.'\n",
    "\n",
    "def credit_rating(tck):\n",
    "    df_rating=pd.read_csv('TCC companies mapping 10142024.csv')\n",
    "    df_rating_filtered=df_rating[df_rating['ticker']==tck]\n",
    "\n",
    "    if df_rating_filtered.empty:\n",
    "        return 'Need Manual research'\n",
    "    else:\n",
    "        return df_rating_filtered['S&P rating'].iloc[0]"
   ]
  },
  {
   "cell_type": "markdown",
   "id": "24174790",
   "metadata": {
    "id": "Zx5Q4hquQIaw"
   },
   "source": [
    "Output functions"
   ]
  },
  {
   "cell_type": "code",
   "execution_count": 21,
   "id": "66579ba5",
   "metadata": {
    "id": "dad6de7c"
   },
   "outputs": [],
   "source": [
    "def generate_table(lst_tck):\n",
    "    df_rtr = pd.DataFrame(columns=['Company Name', 'Ticker', 'Industry', 'Stock Trend (7days)', 'Inventory ($)', 'S&P Rating (2023)','Next Earnings', 'Latest Earnings Presentation','Exec. Update'])\n",
    "    for tck in tqdm(lst_tck, desc=\"Progress\", unit=\"ticker\"):\n",
    "        company_profil=return_company_profile(tck)\n",
    "        data_earning_=get_latest_earnings_transcript(tck)\n",
    "\n",
    "        stock_trend=stock_price(tck)\n",
    "        next_call=data_earning_[1]\n",
    "        transcript=data_earning_[0]\n",
    "        inventory=data_inventory(tck, 'annual')\n",
    "        company_name=company_profil['companyName'].iloc[0]\n",
    "        company_industry=company_profil['industry'].iloc[0]\n",
    "        credit_SnP=credit_rating(tck)\n",
    "        exec_update=new_executive(tck)\n",
    "\n",
    "        df_rtr.loc[len(df_rtr)]=[company_name, tck, company_industry, stock_trend, inventory, credit_SnP, next_call, transcript, exec_update]\n",
    "\n",
    "    #df_rtr.to_excel('Target List Intelligence.xlsx', index=False)\n",
    "    return df_rtr\n",
    "\n",
    "\n",
    "def generate_output(list_tck):\n",
    "    df=generate_table(list_tck)\n",
    "    with pd.ExcelWriter('Target List Intelligence.xlsx', engine='openpyxl') as writer:\n",
    "        df.to_excel(writer, index=False, sheet_name='Target List')\n",
    "        worksheet = writer.sheets['Target List']\n",
    "\n",
    "        for i in range(len(df.columns)):\n",
    "            col_letter = get_column_letter(i + 1)  # 1-based indexing\n",
    "            worksheet.column_dimensions[col_letter].width = 25  # or any width you want\n",
    "    files.download('Target List Intelligence.xlsx')"
   ]
  },
  {
   "cell_type": "markdown",
   "id": "b4119fde",
   "metadata": {
    "id": "i0M-uX0tPnwB"
   },
   "source": [
    "# **Run Program**\n",
    "## You can add/remove tickers from this list\n",
    "## Generated file will automatically be downloaded"
   ]
  },
  {
   "cell_type": "code",
   "execution_count": 22,
   "id": "d96b8a43",
   "metadata": {
    "colab": {
     "base_uri": "https://localhost:8080/",
     "height": 35
    },
    "id": "c56b2175",
    "outputId": "e03f319a-9250-4bd8-c3c7-6c05811b2c32"
   },
   "outputs": [
    {
     "name": "stderr",
     "output_type": "stream",
     "text": [
      "Progress: 100%|██████████| 10/10 [00:07<00:00,  1.40ticker/s]\n"
     ]
    },
    {
     "data": {
      "application/javascript": [
       "\n",
       "    async function download(id, filename, size) {\n",
       "      if (!google.colab.kernel.accessAllowed) {\n",
       "        return;\n",
       "      }\n",
       "      const div = document.createElement('div');\n",
       "      const label = document.createElement('label');\n",
       "      label.textContent = `Downloading \"${filename}\": `;\n",
       "      div.appendChild(label);\n",
       "      const progress = document.createElement('progress');\n",
       "      progress.max = size;\n",
       "      div.appendChild(progress);\n",
       "      document.body.appendChild(div);\n",
       "\n",
       "      const buffers = [];\n",
       "      let downloaded = 0;\n",
       "\n",
       "      const channel = await google.colab.kernel.comms.open(id);\n",
       "      // Send a message to notify the kernel that we're ready.\n",
       "      channel.send({})\n",
       "\n",
       "      for await (const message of channel.messages) {\n",
       "        // Send a message to notify the kernel that we're ready.\n",
       "        channel.send({})\n",
       "        if (message.buffers) {\n",
       "          for (const buffer of message.buffers) {\n",
       "            buffers.push(buffer);\n",
       "            downloaded += buffer.byteLength;\n",
       "            progress.value = downloaded;\n",
       "          }\n",
       "        }\n",
       "      }\n",
       "      const blob = new Blob(buffers, {type: 'application/binary'});\n",
       "      const a = document.createElement('a');\n",
       "      a.href = window.URL.createObjectURL(blob);\n",
       "      a.download = filename;\n",
       "      div.appendChild(a);\n",
       "      a.click();\n",
       "      div.remove();\n",
       "    }\n",
       "  "
      ],
      "text/plain": [
       "<IPython.core.display.Javascript object>"
      ]
     },
     "metadata": {},
     "output_type": "display_data"
    },
    {
     "data": {
      "application/javascript": [
       "download(\"download_9f07f4b6-11d1-47f7-b6ed-b33ee3c9eef8\", \"Target List Intelligence.xlsx\", 105094)"
      ],
      "text/plain": [
       "<IPython.core.display.Javascript object>"
      ]
     },
     "metadata": {},
     "output_type": "display_data"
    }
   ],
   "source": [
    "tickers = ['MSFT', 'TSLA', 'AAPL', 'GOOG', 'AMZN', 'META', 'NVDA', 'BRK.B', 'JPM', 'UNH']\n",
    "\n",
    "generate_output(tickers)"
   ]
  },
  {
   "cell_type": "markdown",
   "id": "a7125808",
   "metadata": {
    "id": "1909d881"
   },
   "source": [
    "# Git COMMIT (DO NOT RUN)"
   ]
  },
  {
   "cell_type": "code",
   "execution_count": 1,
   "id": "c8667474",
   "metadata": {
    "colab": {
     "base_uri": "https://localhost:8080/"
    },
    "id": "c9c9c55f",
    "outputId": "64b3c573-8c6f-4540-b7b8-98a36664c0e6"
   },
   "outputs": [
    {
     "name": "stderr",
     "output_type": "stream",
     "text": [
      "warning: in the working copy of 'Sales_target_tracking.ipynb', LF will be replaced by CRLF the next time Git touches it\n"
     ]
    }
   ],
   "source": [
    "!git add .\n"
   ]
  },
  {
   "cell_type": "code",
   "execution_count": 2,
   "id": "61cb452d",
   "metadata": {
    "id": "af02ff01",
    "outputId": "53be2296-32e7-4435-c82c-f6024aedf92c"
   },
   "outputs": [
    {
     "name": "stdout",
     "output_type": "stream",
     "text": [
      "[main 3111022] new columns to the DF\n",
      " 1 file changed, 408 insertions(+), 432 deletions(-)\n"
     ]
    }
   ],
   "source": [
    "!git commit -m \"new columns to the DF\"\n"
   ]
  },
  {
   "cell_type": "code",
   "execution_count": 3,
   "id": "42db2a2e",
   "metadata": {
    "id": "14156b37",
    "outputId": "26c8e067-d335-4161-db71-a3fc2ed98633"
   },
   "outputs": [
    {
     "name": "stderr",
     "output_type": "stream",
     "text": [
      "To https://github.com/alexandre-tcc/target-client_tracking.git\n",
      "   148cabc..3111022  main -> main\n"
     ]
    }
   ],
   "source": [
    "!git push origin main\n"
   ]
  },
  {
   "cell_type": "code",
   "execution_count": null,
   "id": "7d62da9a",
   "metadata": {
    "id": "34b71bb5"
   },
   "outputs": [],
   "source": []
  }
 ],
 "metadata": {
  "colab": {
   "provenance": []
  },
  "kernelspec": {
   "display_name": "Python 3.12.1",
   "language": "python",
   "name": "python312"
  },
  "language_info": {
   "codemirror_mode": {
    "name": "ipython",
    "version": 3
   },
   "file_extension": ".py",
   "mimetype": "text/x-python",
   "name": "python",
   "nbconvert_exporter": "python",
   "pygments_lexer": "ipython3",
   "version": "3.12.4"
  }
 },
 "nbformat": 4,
 "nbformat_minor": 5
}
