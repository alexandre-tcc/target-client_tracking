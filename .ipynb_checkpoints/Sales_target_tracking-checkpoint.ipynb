{
 "cells": [
  {
   "cell_type": "code",
   "execution_count": 1,
   "id": "532c7bb2",
   "metadata": {},
   "outputs": [
    {
     "data": {
      "text/plain": [
       "10"
      ]
     },
     "execution_count": 1,
     "metadata": {},
     "output_type": "execute_result"
    }
   ],
   "source": [
    "1+1*9"
   ]
  },
  {
   "cell_type": "code",
   "execution_count": 2,
   "id": "e1be58e7",
   "metadata": {},
   "outputs": [
    {
     "name": "stderr",
     "output_type": "stream",
     "text": [
      "warning: in the working copy of 'Sales_target_tracking.ipynb', LF will be replaced by CRLF the next time Git touches it\n"
     ]
    }
   ],
   "source": [
    "!git add .\n"
   ]
  },
  {
   "cell_type": "code",
   "execution_count": 3,
   "id": "e5b42354",
   "metadata": {},
   "outputs": [
    {
     "name": "stdout",
     "output_type": "stream",
     "text": [
      "[main (root-commit) 061fe24] Add Sales_target_tracking notebook\n",
      " 1 file changed, 98 insertions(+)\n",
      " create mode 100644 Sales_target_tracking.ipynb\n"
     ]
    }
   ],
   "source": [
    "!git commit -m \"Add Sales_target_tracking notebook\"\n"
   ]
  },
  {
   "cell_type": "code",
   "execution_count": 4,
   "id": "e8aac27b",
   "metadata": {},
   "outputs": [
    {
     "name": "stderr",
     "output_type": "stream",
     "text": [
      "remote: Invalid username or password.\n",
      "fatal: Authentication failed for 'https://github.com/alexandre-tcc/target-client_tracking.git/'\n"
     ]
    }
   ],
   "source": [
    "!git push origin main\n"
   ]
  },
  {
   "cell_type": "code",
   "execution_count": null,
   "id": "df72236c",
   "metadata": {},
   "outputs": [],
   "source": []
  }
 ],
 "metadata": {
  "kernelspec": {
   "display_name": "Python 3.12.1",
   "language": "python",
   "name": "python312"
  },
  "language_info": {
   "codemirror_mode": {
    "name": "ipython",
    "version": 3
   },
   "file_extension": ".py",
   "mimetype": "text/x-python",
   "name": "python",
   "nbconvert_exporter": "python",
   "pygments_lexer": "ipython3",
   "version": "3.12.4"
  }
 },
 "nbformat": 4,
 "nbformat_minor": 5
}
