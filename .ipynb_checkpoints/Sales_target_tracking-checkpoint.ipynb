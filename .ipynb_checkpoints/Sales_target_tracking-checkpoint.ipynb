{
 "cells": [
  {
   "cell_type": "code",
   "execution_count": 22,
   "id": "c9d39aba",
   "metadata": {},
   "outputs": [],
   "source": [
    "import pandas as pd\n",
    "from urllib.request import urlopen\n",
    "import certifi\n",
    "import json"
   ]
  },
  {
   "cell_type": "code",
   "execution_count": 23,
   "id": "9dc73b16",
   "metadata": {},
   "outputs": [],
   "source": [
    "def get_data_url(url):\n",
    "    response = urlopen(url, cafile=certifi.where())\n",
    "    data = response.read().decode(\"utf-8\")\n",
    "    data=json.loads(data)\n",
    "    return pd.DataFrame(data)\n",
    "\n",
    "def get_org_chart(ticker):\n",
    "    apikey='2723105eaade3c1ca8d66ca5c567b590'\n",
    "    url = (f'https://financialmodelingprep.com/api/v3/key-executives/{ticker}?apikey={apikey}')\n",
    "    df_=get_data_url(url)\n",
    "    df_=df_[['title']+['name']]\n",
    "    df_=df_.drop_duplicates(subset='name')\n",
    "    #df_=df_.drop_duplicates(subset='title', inplace=True)\n",
    "    return df_"
   ]
  },
  {
   "cell_type": "code",
   "execution_count": 26,
   "id": "39ff0702",
   "metadata": {},
   "outputs": [],
   "source": [
    "def generate_table(lst_tck):\n",
    "    for tck in lst_tck:\n",
    "        print(get_org_chart(tck))\n",
    "        "
   ]
  },
  {
   "cell_type": "code",
   "execution_count": 27,
   "id": "ce51648c",
   "metadata": {},
   "outputs": [
    {
     "name": "stderr",
     "output_type": "stream",
     "text": [
      "C:\\Users\\thoir\\AppData\\Local\\Temp\\ipykernel_19664\\3519685781.py:2: DeprecationWarning: cafile, capath and cadefault are deprecated, use a custom context instead.\n",
      "  response = urlopen(url, cafile=certifi.where())\n"
     ]
    },
    {
     "name": "stdout",
     "output_type": "stream",
     "text": [
      "                                               title  \\\n",
      "0                          President & Vice Chairman   \n",
      "1  Corporate Vice President & Chief Accounting Of...   \n",
      "2  Executive Vice President & Chief Operating Off...   \n",
      "3  Executive Vice President & Chief Financial Off...   \n",
      "4               Vice President of Investor Relations   \n",
      "5                                Chief Legal Officer   \n",
      "6                       Chief Communications Officer   \n",
      "7  Executive Vice President & Chief Marketing Off...   \n",
      "8  Executive Vice President & Chief Commercial Of...   \n",
      "9                 Chairman & Chief Executive Officer   \n",
      "\n",
      "                         name  \n",
      "0   Mr. Bradford L. Smith LCA  \n",
      "1          Ms. Alice L. Jolla  \n",
      "2  Ms. Carolina  Dybeck Happe  \n",
      "3             Ms. Amy E. Hood  \n",
      "4          Mr. Brett  Iversen  \n",
      "5         Mr. Hossein  Nowbar  \n",
      "6           Mr. Frank X. Shaw  \n",
      "7         Mr. Takeshi  Numoto  \n",
      "8       Mr. Judson B. Althoff  \n",
      "9          Mr. Satya  Nadella  \n"
     ]
    },
    {
     "name": "stderr",
     "output_type": "stream",
     "text": [
      "C:\\Users\\thoir\\AppData\\Local\\Temp\\ipykernel_19664\\3519685781.py:2: DeprecationWarning: cafile, capath and cadefault are deprecated, use a custom context instead.\n",
      "  response = urlopen(url, cafile=certifi.where())\n"
     ]
    },
    {
     "name": "stdout",
     "output_type": "stream",
     "text": [
      "                                               title  \\\n",
      "0                                     Chief Designer   \n",
      "1                Senior Vice President of Automotive   \n",
      "2            Vice President of Sales - North America   \n",
      "3                                Engineering Manager   \n",
      "4                                     Chip Architect   \n",
      "5                Director of Construction Management   \n",
      "6           Senior Director of Corporate Development   \n",
      "7                            Chief Financial Officer   \n",
      "8                         Head of Investor Relations   \n",
      "9  Co-Founder, Technoking of Tesla, Chief Executi...   \n",
      "\n",
      "                             name  \n",
      "0       Mr. Franz  von Holzhausen  \n",
      "1               Mr. Xiaotong  Zhu  \n",
      "2                Mr. John  Walker  \n",
      "3            Mr. Turner  Caldwell  \n",
      "4               Mr. Peter  Bannon  \n",
      "5  Mr. Rodney D. Westmoreland Jr.  \n",
      "6                   Brian  Scelfo  \n",
      "7             Mr. Vaibhav  Taneja  \n",
      "8                 Travis  Axelrod  \n",
      "9                Mr. Elon R. Musk  \n"
     ]
    },
    {
     "name": "stderr",
     "output_type": "stream",
     "text": [
      "C:\\Users\\thoir\\AppData\\Local\\Temp\\ipykernel_19664\\3519685781.py:2: DeprecationWarning: cafile, capath and cadefault are deprecated, use a custom context instead.\n",
      "  response = urlopen(url, cafile=certifi.where())\n"
     ]
    },
    {
     "name": "stdout",
     "output_type": "stream",
     "text": [
      "                                               title  \\\n",
      "0            Senior Director of Corporate Accounting   \n",
      "1                     Director of Investor Relations   \n",
      "2         Vice President of Worldwide Communications   \n",
      "3    Senior Vice President & Chief Financial Officer   \n",
      "4                            Chief Operating Officer   \n",
      "5  Chief People Officer & Senior Vice President o...   \n",
      "6  Senior Vice President, General Counsel & Secre...   \n",
      "7       Senior Vice President of Worldwide Marketing   \n",
      "8            Vice President of Corporate Development   \n",
      "9                 Chief Executive Officer & Director   \n",
      "\n",
      "                        name  \n",
      "0           Mr. Chris  Kondo  \n",
      "1     Suhasini  Chandramouli  \n",
      "2  Ms. Kristin Huguet Quayle  \n",
      "3          Mr. Kevan  Parekh  \n",
      "4    Mr. Jeffrey E. Williams  \n",
      "5       Ms. Deirdre  O'Brien  \n",
      "6     Ms. Katherine L. Adams  \n",
      "7          Mr. Greg  Joswiak  \n",
      "8         Mr. Adrian  Perica  \n",
      "9        Mr. Timothy D. Cook  \n"
     ]
    }
   ],
   "source": [
    "tickers=['MSFT','TSLA','AAPL']\n",
    "\n",
    "generate_table(tickers)"
   ]
  },
  {
   "cell_type": "markdown",
   "id": "b0052b84",
   "metadata": {},
   "source": [
    "# Git COMMIT"
   ]
  },
  {
   "cell_type": "code",
   "execution_count": 6,
   "id": "e4074907",
   "metadata": {},
   "outputs": [
    {
     "name": "stderr",
     "output_type": "stream",
     "text": [
      "warning: in the working copy of 'Sales_target_tracking.ipynb', LF will be replaced by CRLF the next time Git touches it\n",
      "warning: in the working copy of '.ipynb_checkpoints/Sales_target_tracking-checkpoint.ipynb', LF will be replaced by CRLF the next time Git touches it\n"
     ]
    }
   ],
   "source": [
    "!git add .\n"
   ]
  },
  {
   "cell_type": "code",
   "execution_count": 7,
   "id": "60dfbfcd",
   "metadata": {},
   "outputs": [
    {
     "name": "stdout",
     "output_type": "stream",
     "text": [
      "[main 8030a8f] Revision\n",
      " 3 files changed, 1577 insertions(+), 14 deletions(-)\n",
      " create mode 100644 .ipynb_checkpoints/Sales_target_tracking-checkpoint.ipynb\n",
      " create mode 100644 TCC companies mapping 10142024.csv\n"
     ]
    }
   ],
   "source": [
    "!git commit -m \"Revision\"\n"
   ]
  },
  {
   "cell_type": "code",
   "execution_count": 8,
   "id": "445c2f73",
   "metadata": {},
   "outputs": [
    {
     "name": "stderr",
     "output_type": "stream",
     "text": [
      "To https://github.com/alexandre-tcc/target-client_tracking.git\n",
      "   061fe24..8030a8f  main -> main\n"
     ]
    }
   ],
   "source": [
    "!git push origin main\n"
   ]
  },
  {
   "cell_type": "code",
   "execution_count": null,
   "id": "8e95abc1",
   "metadata": {},
   "outputs": [],
   "source": []
  }
 ],
 "metadata": {
  "kernelspec": {
   "display_name": "Python 3.12.1",
   "language": "python",
   "name": "python312"
  },
  "language_info": {
   "codemirror_mode": {
    "name": "ipython",
    "version": 3
   },
   "file_extension": ".py",
   "mimetype": "text/x-python",
   "name": "python",
   "nbconvert_exporter": "python",
   "pygments_lexer": "ipython3",
   "version": "3.12.4"
  }
 },
 "nbformat": 4,
 "nbformat_minor": 5
}
