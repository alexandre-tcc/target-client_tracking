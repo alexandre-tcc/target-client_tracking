{
 "cells": [
  {
   "cell_type": "code",
   "execution_count": 107,
   "id": "e5c3e48f",
   "metadata": {},
   "outputs": [],
   "source": [
    "import pandas as pd\n",
    "from urllib.request import urlopen\n",
    "import certifi\n",
    "import ssl\n",
    "import json\n",
    "import fmpsdk\n",
    "from dateutil.relativedelta import relativedelta\n",
    "from openpyxl.utils import get_column_letter\n",
    "\n",
    "\n",
    "\n",
    "# Create a secure SSL context\n",
    "context_init = ssl.create_default_context(cafile=certifi.where())\n"
   ]
  },
  {
   "cell_type": "code",
   "execution_count": 108,
   "id": "78c1b936",
   "metadata": {},
   "outputs": [],
   "source": [
    "def get_data_url(url):\n",
    "    response = urlopen(url, context=context_init)\n",
    "    data = response.read().decode(\"utf-8\")\n",
    "    data=json.loads(data)\n",
    "    return pd.DataFrame(data)\n",
    "\n",
    "def get_org_chart(ticker):\n",
    "    apikey='2723105eaade3c1ca8d66ca5c567b590'\n",
    "    url = (f'https://financialmodelingprep.com/api/v3/key-executives/{ticker}?apikey={apikey}')\n",
    "    df_=get_data_url(url)\n",
    "    df_=df_[['title']+['name']]\n",
    "    df_=df_.drop_duplicates(subset='name')\n",
    "    #df_=df_.drop_duplicates(subset='title', inplace=True)\n",
    "    return df_\n",
    "\n",
    "def stock_price(ticker):\n",
    "    try:\n",
    "        stock_prices = fmpsdk.historical_price_full(apikey='2723105eaade3c1ca8d66ca5c567b590', symbol=ticker)\n",
    "        closing_prices = [price['close'] for price in stock_prices]\n",
    "\n",
    "        weekly_stock_variation = (closing_prices[0]-closing_prices[7])/closing_prices[7]\n",
    "\n",
    "        if weekly_stock_variation >=0:\n",
    "            return \"+\"+str(round(weekly_stock_variation*100,2))+\"%\"\n",
    "        else:\n",
    "            return str(round(weekly_stock_variation*100,2))+\"%\"\n",
    "        \n",
    "    except:\n",
    "        return \"FAIL\"\n",
    "    \n",
    "\n",
    "def data_inventory(ticker,period):\n",
    "    \n",
    "    apikey='2723105eaade3c1ca8d66ca5c567b590'\n",
    "    \n",
    "    symbol: str = ticker\n",
    "    \n",
    "    try:\n",
    "        data_BSS=pd.DataFrame(fmpsdk.balance_sheet_statement(apikey=apikey, symbol=symbol, period=period))\n",
    "        #return '$'+str((data_BSS['inventory'].iloc[0])/1000000)+\"M\"\n",
    "        return data_BSS['inventory'].iloc[0]\n",
    "    except:\n",
    "        return \"FAIL\"\n",
    "\n",
    "\n",
    "def get_latest_earnings_transcript(ticker):\n",
    "    apikey = '2723105eaade3c1ca8d66ca5c567b590'\n",
    "    \n",
    "    url = f'https://financialmodelingprep.com/api/v3/earning_call_transcript/{ticker}?apikey={apikey}'\n",
    "    \n",
    "    try:\n",
    "        data = get_data_url(url)\n",
    "        date_latest=pd.to_datetime(data[\"date\"].iloc[0])\n",
    "        date_next=date_latest + relativedelta(months=3)\n",
    "        transcript=data['content'].iloc[0]\n",
    "        return transcript, date_next\n",
    "    except:\n",
    "        return 'FAIL', 'FAIL'\n",
    "\n",
    "def return_company_profile(tck):\n",
    "    # Get company profile and industry from the ticker\n",
    "    company_info = fmpsdk.company_profile(symbol=tck, apikey='2723105eaade3c1ca8d66ca5c567b590')\n",
    "    try:\n",
    "        return pd.DataFrame([company_info[0]])\n",
    "    except: \n",
    "        return pd.DataFrame([{'companyName': 'FAIL', 'industry': 'FAIL'}])\n",
    "\n",
    "def new_executive(tck):\n",
    "    return 'in dev.'\n",
    "\n",
    "def credit_rating(tck):\n",
    "    df_rating=pd.read_csv('TCC companies mapping 10142024.csv')\n",
    "    df_rating_filtered=df_rating[df_rating['ticker']==tck]\n",
    "    \n",
    "    if df_rating_filtered.empty:\n",
    "        return 'Need Manual research'\n",
    "    else:\n",
    "        return df_rating_filtered['S&P rating'].iloc[0]"
   ]
  },
  {
   "cell_type": "code",
   "execution_count": 109,
   "id": "f698b61f",
   "metadata": {},
   "outputs": [],
   "source": [
    "def generate_table(lst_tck):\n",
    "    df_rtr = pd.DataFrame(columns=['Company Name', 'Ticker', 'Industry', 'Stock Trend (7days)', 'Inventory ($)', 'S&P Rating (2023)','Next Earnings', 'Latest Earnings Presentation','Exec. Update'])\n",
    "    for tck in lst_tck:\n",
    "        print(tck)\n",
    "        company_profil=return_company_profile(tck)\n",
    "        data_earning_=get_latest_earnings_transcript(tck)\n",
    "        \n",
    "        stock_trend=stock_price(tck)\n",
    "        next_call=data_earning_[1]\n",
    "        transcript=data_earning_[0]\n",
    "        inventory=data_inventory(tck, 'annual')\n",
    "        company_name=company_profil['companyName'].iloc[0]\n",
    "        company_industry=company_profil['industry'].iloc[0]\n",
    "        credit_SnP=credit_rating(tck)\n",
    "        exec_update=new_executive(tck)\n",
    "        \n",
    "        df_rtr.loc[len(df_rtr)]=[company_name, tck, company_industry, stock_trend, inventory, credit_SnP, next_call, transcript, exec_update]\n",
    "            \n",
    "    #df_rtr.to_excel('Target List Intelligence.xlsx', index=False)\n",
    "    return df_rtr\n",
    "\n",
    "\n",
    "def generate_output(list_tck):\n",
    "    df=generate_table(list_tck)\n",
    "    with pd.ExcelWriter('Target List Intelligence.xlsx', engine='openpyxl') as writer:\n",
    "        df.to_excel(writer, index=False, sheet_name='Target List')\n",
    "        worksheet = writer.sheets['Target List']\n",
    "\n",
    "        for i in range(len(df.columns)):\n",
    "            col_letter = get_column_letter(i + 1)  # 1-based indexing\n",
    "            worksheet.column_dimensions[col_letter].width = 25  # or any width you want"
   ]
  },
  {
   "cell_type": "code",
   "execution_count": 110,
   "id": "d487f899",
   "metadata": {},
   "outputs": [
    {
     "data": {
      "text/html": [
       "<div>\n",
       "<style scoped>\n",
       "    .dataframe tbody tr th:only-of-type {\n",
       "        vertical-align: middle;\n",
       "    }\n",
       "\n",
       "    .dataframe tbody tr th {\n",
       "        vertical-align: top;\n",
       "    }\n",
       "\n",
       "    .dataframe thead th {\n",
       "        text-align: right;\n",
       "    }\n",
       "</style>\n",
       "<table border=\"1\" class=\"dataframe\">\n",
       "  <thead>\n",
       "    <tr style=\"text-align: right;\">\n",
       "      <th></th>\n",
       "      <th>companyName</th>\n",
       "      <th>industry</th>\n",
       "    </tr>\n",
       "  </thead>\n",
       "  <tbody>\n",
       "    <tr>\n",
       "      <th>0</th>\n",
       "      <td>FAIL</td>\n",
       "      <td>FAIL</td>\n",
       "    </tr>\n",
       "  </tbody>\n",
       "</table>\n",
       "</div>"
      ],
      "text/plain": [
       "  companyName industry\n",
       "0        FAIL     FAIL"
      ]
     },
     "execution_count": 110,
     "metadata": {},
     "output_type": "execute_result"
    }
   ],
   "source": [
    "return_company_profile('BRK.B')"
   ]
  },
  {
   "cell_type": "code",
   "execution_count": 111,
   "id": "f6cd7db6",
   "metadata": {},
   "outputs": [
    {
     "name": "stdout",
     "output_type": "stream",
     "text": [
      "MSFT\n"
     ]
    },
    {
     "name": "stderr",
     "output_type": "stream",
     "text": [
      "C:\\Users\\thoir\\AppData\\Local\\Temp\\ipykernel_21600\\3775500943.py:46: DeprecationWarning: cafile, capath and cadefault are deprecated, use a custom context instead.\n",
      "  response = urlopen(url, cafile=certifi.where())\n"
     ]
    },
    {
     "name": "stdout",
     "output_type": "stream",
     "text": [
      "TSLA\n"
     ]
    },
    {
     "name": "stderr",
     "output_type": "stream",
     "text": [
      "C:\\Users\\thoir\\AppData\\Local\\Temp\\ipykernel_21600\\3775500943.py:46: DeprecationWarning: cafile, capath and cadefault are deprecated, use a custom context instead.\n",
      "  response = urlopen(url, cafile=certifi.where())\n"
     ]
    },
    {
     "name": "stdout",
     "output_type": "stream",
     "text": [
      "AAPL\n"
     ]
    },
    {
     "name": "stderr",
     "output_type": "stream",
     "text": [
      "C:\\Users\\thoir\\AppData\\Local\\Temp\\ipykernel_21600\\3775500943.py:46: DeprecationWarning: cafile, capath and cadefault are deprecated, use a custom context instead.\n",
      "  response = urlopen(url, cafile=certifi.where())\n"
     ]
    },
    {
     "name": "stdout",
     "output_type": "stream",
     "text": [
      "GOOG\n"
     ]
    },
    {
     "name": "stderr",
     "output_type": "stream",
     "text": [
      "C:\\Users\\thoir\\AppData\\Local\\Temp\\ipykernel_21600\\3775500943.py:46: DeprecationWarning: cafile, capath and cadefault are deprecated, use a custom context instead.\n",
      "  response = urlopen(url, cafile=certifi.where())\n"
     ]
    },
    {
     "name": "stdout",
     "output_type": "stream",
     "text": [
      "AMZN\n"
     ]
    },
    {
     "name": "stderr",
     "output_type": "stream",
     "text": [
      "C:\\Users\\thoir\\AppData\\Local\\Temp\\ipykernel_21600\\3775500943.py:46: DeprecationWarning: cafile, capath and cadefault are deprecated, use a custom context instead.\n",
      "  response = urlopen(url, cafile=certifi.where())\n"
     ]
    },
    {
     "name": "stdout",
     "output_type": "stream",
     "text": [
      "META\n"
     ]
    },
    {
     "name": "stderr",
     "output_type": "stream",
     "text": [
      "C:\\Users\\thoir\\AppData\\Local\\Temp\\ipykernel_21600\\3775500943.py:46: DeprecationWarning: cafile, capath and cadefault are deprecated, use a custom context instead.\n",
      "  response = urlopen(url, cafile=certifi.where())\n"
     ]
    },
    {
     "name": "stdout",
     "output_type": "stream",
     "text": [
      "NVDA\n"
     ]
    },
    {
     "name": "stderr",
     "output_type": "stream",
     "text": [
      "C:\\Users\\thoir\\AppData\\Local\\Temp\\ipykernel_21600\\3775500943.py:46: DeprecationWarning: cafile, capath and cadefault are deprecated, use a custom context instead.\n",
      "  response = urlopen(url, cafile=certifi.where())\n"
     ]
    },
    {
     "name": "stdout",
     "output_type": "stream",
     "text": [
      "BRK.B\n"
     ]
    },
    {
     "name": "stderr",
     "output_type": "stream",
     "text": [
      "C:\\Users\\thoir\\AppData\\Local\\Temp\\ipykernel_21600\\3775500943.py:46: DeprecationWarning: cafile, capath and cadefault are deprecated, use a custom context instead.\n",
      "  response = urlopen(url, cafile=certifi.where())\n"
     ]
    },
    {
     "name": "stdout",
     "output_type": "stream",
     "text": [
      "JPM\n"
     ]
    },
    {
     "name": "stderr",
     "output_type": "stream",
     "text": [
      "C:\\Users\\thoir\\AppData\\Local\\Temp\\ipykernel_21600\\3775500943.py:46: DeprecationWarning: cafile, capath and cadefault are deprecated, use a custom context instead.\n",
      "  response = urlopen(url, cafile=certifi.where())\n"
     ]
    },
    {
     "name": "stdout",
     "output_type": "stream",
     "text": [
      "UNH\n"
     ]
    },
    {
     "name": "stderr",
     "output_type": "stream",
     "text": [
      "C:\\Users\\thoir\\AppData\\Local\\Temp\\ipykernel_21600\\3775500943.py:46: DeprecationWarning: cafile, capath and cadefault are deprecated, use a custom context instead.\n",
      "  response = urlopen(url, cafile=certifi.where())\n"
     ]
    }
   ],
   "source": [
    "tickers = ['MSFT', 'TSLA', 'AAPL', 'GOOG', 'AMZN', 'META', 'NVDA', 'BRK.B', 'JPM', 'UNH']\n",
    "\n",
    "generate_output(tickers)"
   ]
  },
  {
   "cell_type": "markdown",
   "id": "ecca5caa",
   "metadata": {},
   "source": [
    "# Git COMMIT"
   ]
  },
  {
   "cell_type": "code",
   "execution_count": 75,
   "id": "f9a74ddd",
   "metadata": {},
   "outputs": [
    {
     "name": "stderr",
     "output_type": "stream",
     "text": [
      "warning: in the working copy of '.ipynb_checkpoints/Sales_target_tracking-checkpoint.ipynb', LF will be replaced by CRLF the next time Git touches it\n",
      "warning: in the working copy of 'Sales_target_tracking.ipynb', LF will be replaced by CRLF the next time Git touches it\n"
     ]
    }
   ],
   "source": [
    "!git add .\n"
   ]
  },
  {
   "cell_type": "code",
   "execution_count": 76,
   "id": "25c299ec",
   "metadata": {},
   "outputs": [
    {
     "name": "stdout",
     "output_type": "stream",
     "text": [
      "[main 1930280] new columns to the DF\n",
      " 2 files changed, 212 insertions(+), 48 deletions(-)\n"
     ]
    }
   ],
   "source": [
    "!git commit -m \"new columns to the DF\"\n"
   ]
  },
  {
   "cell_type": "code",
   "execution_count": 77,
   "id": "f2349f2e",
   "metadata": {},
   "outputs": [
    {
     "name": "stderr",
     "output_type": "stream",
     "text": [
      "To https://github.com/alexandre-tcc/target-client_tracking.git\n",
      "   9ec9506..1930280  main -> main\n"
     ]
    }
   ],
   "source": [
    "!git push origin main\n"
   ]
  },
  {
   "cell_type": "code",
   "execution_count": null,
   "id": "030e24f2",
   "metadata": {},
   "outputs": [],
   "source": []
  }
 ],
 "metadata": {
  "kernelspec": {
   "display_name": "Python 3.12.1",
   "language": "python",
   "name": "python312"
  },
  "language_info": {
   "codemirror_mode": {
    "name": "ipython",
    "version": 3
   },
   "file_extension": ".py",
   "mimetype": "text/x-python",
   "name": "python",
   "nbconvert_exporter": "python",
   "pygments_lexer": "ipython3",
   "version": "3.12.4"
  }
 },
 "nbformat": 4,
 "nbformat_minor": 5
}
