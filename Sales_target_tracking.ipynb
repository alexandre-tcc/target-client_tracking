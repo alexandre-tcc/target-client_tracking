{
 "cells": [
  {
   "cell_type": "markdown",
   "id": "8808b770",
   "metadata": {
    "id": "ml9EFSASPWvD"
   },
   "source": [
    "# Initialization (RUN ALL BELLOW)"
   ]
  },
  {
   "cell_type": "code",
   "execution_count": null,
   "id": "3549f006",
   "metadata": {
    "colab": {
     "base_uri": "https://localhost:8080/"
    },
    "id": "LFbaHihDXn-o",
    "outputId": "1ede4039-bbbc-4198-a746-17df857556ea"
   },
   "outputs": [],
   "source": [
    "pip install fmpsdk"
   ]
  },
  {
   "cell_type": "code",
   "execution_count": 9,
   "id": "00934edb",
   "metadata": {
    "id": "52a67540"
   },
   "outputs": [
    {
     "data": {
      "text/html": [
       "<div>\n",
       "<style scoped>\n",
       "    .dataframe tbody tr th:only-of-type {\n",
       "        vertical-align: middle;\n",
       "    }\n",
       "\n",
       "    .dataframe tbody tr th {\n",
       "        vertical-align: top;\n",
       "    }\n",
       "\n",
       "    .dataframe thead th {\n",
       "        text-align: right;\n",
       "    }\n",
       "</style>\n",
       "<table border=\"1\" class=\"dataframe\">\n",
       "  <thead>\n",
       "    <tr style=\"text-align: right;\">\n",
       "      <th></th>\n",
       "      <th>name</th>\n",
       "      <th>ticker</th>\n",
       "      <th>Bloomberg ticker</th>\n",
       "      <th>S&amp;P rating</th>\n",
       "      <th>Moody rating</th>\n",
       "      <th>country</th>\n",
       "      <th>cik</th>\n",
       "      <th>isin</th>\n",
       "      <th>cusip</th>\n",
       "      <th>Sector</th>\n",
       "      <th>-</th>\n",
       "      <th>Industry</th>\n",
       "    </tr>\n",
       "  </thead>\n",
       "  <tbody>\n",
       "    <tr>\n",
       "      <th>0</th>\n",
       "      <td>Walmart Inc.</td>\n",
       "      <td>WMT</td>\n",
       "      <td>WMT US equity</td>\n",
       "      <td>AA</td>\n",
       "      <td>Aa2</td>\n",
       "      <td>US</td>\n",
       "      <td>104169.0</td>\n",
       "      <td>US9311421039</td>\n",
       "      <td>931142103</td>\n",
       "      <td>Consumer Defensive</td>\n",
       "      <td>Discount Stores</td>\n",
       "      <td>Discount Stores</td>\n",
       "    </tr>\n",
       "    <tr>\n",
       "      <th>1</th>\n",
       "      <td>Amazon.com, Inc.</td>\n",
       "      <td>AMZN</td>\n",
       "      <td>AMZN US equity</td>\n",
       "      <td>AA</td>\n",
       "      <td>A1</td>\n",
       "      <td>US</td>\n",
       "      <td>1018724.0</td>\n",
       "      <td>US0231351067</td>\n",
       "      <td>023135106</td>\n",
       "      <td>Consumer Cyclical</td>\n",
       "      <td>Internet Retail</td>\n",
       "      <td>Specialty Retail</td>\n",
       "    </tr>\n",
       "    <tr>\n",
       "      <th>2</th>\n",
       "      <td>NaN</td>\n",
       "      <td>386</td>\n",
       "      <td>386 HK equity</td>\n",
       "      <td>A+</td>\n",
       "      <td>NaN</td>\n",
       "      <td>NaN</td>\n",
       "      <td>NaN</td>\n",
       "      <td>NaN</td>\n",
       "      <td>NaN</td>\n",
       "      <td>NaN</td>\n",
       "      <td>NaN</td>\n",
       "      <td>NaN</td>\n",
       "    </tr>\n",
       "    <tr>\n",
       "      <th>3</th>\n",
       "      <td>Apple Inc.</td>\n",
       "      <td>AAPL</td>\n",
       "      <td>AAPL US equity</td>\n",
       "      <td>AA+</td>\n",
       "      <td>Aaa</td>\n",
       "      <td>US</td>\n",
       "      <td>320193.0</td>\n",
       "      <td>US0378331005</td>\n",
       "      <td>037833100</td>\n",
       "      <td>Technology</td>\n",
       "      <td>Consumer Electronics</td>\n",
       "      <td>Consumer Electronics</td>\n",
       "    </tr>\n",
       "    <tr>\n",
       "      <th>4</th>\n",
       "      <td>CVS Health Corporation</td>\n",
       "      <td>CVS</td>\n",
       "      <td>CVS US equity</td>\n",
       "      <td>BBB</td>\n",
       "      <td>Baa2</td>\n",
       "      <td>US</td>\n",
       "      <td>64803.0</td>\n",
       "      <td>US1266501006</td>\n",
       "      <td>126650100</td>\n",
       "      <td>Healthcare</td>\n",
       "      <td>Healthcare Plans</td>\n",
       "      <td>Medical - Healthcare Plans</td>\n",
       "    </tr>\n",
       "    <tr>\n",
       "      <th>...</th>\n",
       "      <td>...</td>\n",
       "      <td>...</td>\n",
       "      <td>...</td>\n",
       "      <td>...</td>\n",
       "      <td>...</td>\n",
       "      <td>...</td>\n",
       "      <td>...</td>\n",
       "      <td>...</td>\n",
       "      <td>...</td>\n",
       "      <td>...</td>\n",
       "      <td>...</td>\n",
       "      <td>...</td>\n",
       "    </tr>\n",
       "    <tr>\n",
       "      <th>1433</th>\n",
       "      <td>NetApp, Inc.</td>\n",
       "      <td>NTAP</td>\n",
       "      <td>NTAP US equity</td>\n",
       "      <td>BBB+</td>\n",
       "      <td>Baa2</td>\n",
       "      <td>US</td>\n",
       "      <td>1002047.0</td>\n",
       "      <td>US64110D1046</td>\n",
       "      <td>64110D104</td>\n",
       "      <td>Technology</td>\n",
       "      <td>Computer Hardware</td>\n",
       "      <td>Computer Hardware</td>\n",
       "    </tr>\n",
       "    <tr>\n",
       "      <th>1434</th>\n",
       "      <td>Edison International</td>\n",
       "      <td>EIX</td>\n",
       "      <td>EIX US equity</td>\n",
       "      <td>BBB</td>\n",
       "      <td>Baa2</td>\n",
       "      <td>US</td>\n",
       "      <td>827052.0</td>\n",
       "      <td>US2810201077</td>\n",
       "      <td>281020107</td>\n",
       "      <td>Utilities</td>\n",
       "      <td>Utilities—Regulated Electric</td>\n",
       "      <td>Regulated Electric</td>\n",
       "    </tr>\n",
       "    <tr>\n",
       "      <th>1435</th>\n",
       "      <td>Cvent Holding Corp.</td>\n",
       "      <td>CVT</td>\n",
       "      <td>CVT US equity</td>\n",
       "      <td>NaN</td>\n",
       "      <td>NaN</td>\n",
       "      <td>US</td>\n",
       "      <td>1827075.0</td>\n",
       "      <td>US1266771039</td>\n",
       "      <td>126677103</td>\n",
       "      <td>Technology</td>\n",
       "      <td>Software—Application</td>\n",
       "      <td>Software - Application</td>\n",
       "    </tr>\n",
       "    <tr>\n",
       "      <th>1436</th>\n",
       "      <td>Sun Communities, Inc.</td>\n",
       "      <td>SUI</td>\n",
       "      <td>SUI US equity</td>\n",
       "      <td>BBB</td>\n",
       "      <td>NaN</td>\n",
       "      <td>US</td>\n",
       "      <td>912593.0</td>\n",
       "      <td>US8666741041</td>\n",
       "      <td>866674104</td>\n",
       "      <td>Real Estate</td>\n",
       "      <td>REIT—Residential</td>\n",
       "      <td>REIT - Residential</td>\n",
       "    </tr>\n",
       "    <tr>\n",
       "      <th>1437</th>\n",
       "      <td>Skillsoft Corp.</td>\n",
       "      <td>SKIL</td>\n",
       "      <td>SKIL US equity</td>\n",
       "      <td>B-</td>\n",
       "      <td>NaN</td>\n",
       "      <td>US</td>\n",
       "      <td>1774675.0</td>\n",
       "      <td>US83066P2002</td>\n",
       "      <td>83066P200</td>\n",
       "      <td>Consumer Defensive</td>\n",
       "      <td>Education &amp; Training Services</td>\n",
       "      <td>Education &amp; Training Services</td>\n",
       "    </tr>\n",
       "  </tbody>\n",
       "</table>\n",
       "<p>1438 rows × 12 columns</p>\n",
       "</div>"
      ],
      "text/plain": [
       "                        name ticker Bloomberg ticker S&P rating Moody rating  \\\n",
       "0               Walmart Inc.    WMT    WMT US equity         AA          Aa2   \n",
       "1           Amazon.com, Inc.   AMZN   AMZN US equity         AA           A1   \n",
       "2                        NaN    386    386 HK equity         A+          NaN   \n",
       "3                 Apple Inc.   AAPL   AAPL US equity        AA+          Aaa   \n",
       "4     CVS Health Corporation    CVS    CVS US equity        BBB         Baa2   \n",
       "...                      ...    ...              ...        ...          ...   \n",
       "1433            NetApp, Inc.   NTAP   NTAP US equity       BBB+         Baa2   \n",
       "1434    Edison International    EIX    EIX US equity        BBB         Baa2   \n",
       "1435     Cvent Holding Corp.    CVT    CVT US equity        NaN          NaN   \n",
       "1436   Sun Communities, Inc.    SUI    SUI US equity        BBB          NaN   \n",
       "1437         Skillsoft Corp.   SKIL   SKIL US equity         B-          NaN   \n",
       "\n",
       "     country        cik          isin      cusip              Sector  \\\n",
       "0         US   104169.0  US9311421039  931142103  Consumer Defensive   \n",
       "1         US  1018724.0  US0231351067  023135106   Consumer Cyclical   \n",
       "2        NaN        NaN           NaN        NaN                 NaN   \n",
       "3         US   320193.0  US0378331005  037833100          Technology   \n",
       "4         US    64803.0  US1266501006  126650100          Healthcare   \n",
       "...      ...        ...           ...        ...                 ...   \n",
       "1433      US  1002047.0  US64110D1046  64110D104          Technology   \n",
       "1434      US   827052.0  US2810201077  281020107           Utilities   \n",
       "1435      US  1827075.0  US1266771039  126677103          Technology   \n",
       "1436      US   912593.0  US8666741041  866674104         Real Estate   \n",
       "1437      US  1774675.0  US83066P2002  83066P200  Consumer Defensive   \n",
       "\n",
       "                                  -                       Industry  \n",
       "0                   Discount Stores                Discount Stores  \n",
       "1                   Internet Retail               Specialty Retail  \n",
       "2                               NaN                            NaN  \n",
       "3              Consumer Electronics           Consumer Electronics  \n",
       "4                  Healthcare Plans     Medical - Healthcare Plans  \n",
       "...                             ...                            ...  \n",
       "1433              Computer Hardware              Computer Hardware  \n",
       "1434   Utilities—Regulated Electric             Regulated Electric  \n",
       "1435           Software—Application         Software - Application  \n",
       "1436               REIT—Residential             REIT - Residential  \n",
       "1437  Education & Training Services  Education & Training Services  \n",
       "\n",
       "[1438 rows x 12 columns]"
      ]
     },
     "execution_count": 9,
     "metadata": {},
     "output_type": "execute_result"
    }
   ],
   "source": [
    "import pandas as pd\n",
    "from urllib.request import urlopen\n",
    "import certifi\n",
    "import ssl\n",
    "import json\n",
    "import fmpsdk\n",
    "from dateutil.relativedelta import relativedelta\n",
    "from openpyxl.utils import get_column_letter\n",
    "#from google.colab import files\n",
    "from tqdm import tqdm\n",
    "\n",
    "# Create a secure SSL context\n",
    "context_init = ssl.create_default_context(cafile=certifi.where())\n",
    "\n",
    "\n",
    "\n"
   ]
  },
  {
   "cell_type": "markdown",
   "id": "67f2f747",
   "metadata": {
    "id": "G3dCqr-JQCnf"
   },
   "source": [
    "Data extraction functions:"
   ]
  },
  {
   "cell_type": "code",
   "execution_count": null,
   "id": "28819c41",
   "metadata": {
    "id": "ffbd68ad"
   },
   "outputs": [],
   "source": [
    "def get_data_url(url):\n",
    "    response = urlopen(url, context=context_init)\n",
    "    data = response.read().decode(\"utf-8\")\n",
    "    data=json.loads(data)\n",
    "    return pd.DataFrame(data)\n",
    "\n",
    "def get_org_chart(ticker):\n",
    "    apikey='2723105eaade3c1ca8d66ca5c567b590'\n",
    "    url = (f'https://financialmodelingprep.com/api/v3/key-executives/{ticker}?apikey={apikey}')\n",
    "    df_=get_data_url(url)\n",
    "    df_=df_[['title']+['name']]\n",
    "    df_=df_.drop_duplicates(subset='name')\n",
    "    #df_=df_.drop_duplicates(subset='title', inplace=True)\n",
    "    return df_\n",
    "\n",
    "def stock_price(ticker):\n",
    "    try:\n",
    "        stock_prices = fmpsdk.historical_price_full(apikey='2723105eaade3c1ca8d66ca5c567b590', symbol=ticker)\n",
    "        closing_prices = [price['close'] for price in stock_prices]\n",
    "\n",
    "        weekly_stock_variation = (closing_prices[0]-closing_prices[7])/closing_prices[7]\n",
    "\n",
    "        if weekly_stock_variation >=0:\n",
    "            return \"+\"+str(round(weekly_stock_variation*100,2))+\"%\"\n",
    "        else:\n",
    "            return str(round(weekly_stock_variation*100,2))+\"%\"\n",
    "\n",
    "    except Exception as e:\n",
    "        print(f\"Unexpected error: {e}\")\n",
    "        return \"FAIL\"\n",
    "\n",
    "\n",
    "def data_inventory(ticker,period):\n",
    "\n",
    "    apikey='2723105eaade3c1ca8d66ca5c567b590'\n",
    "\n",
    "    symbol: str = ticker\n",
    "\n",
    "    try:\n",
    "        data_BSS=pd.DataFrame(fmpsdk.balance_sheet_statement(apikey=apikey, symbol=symbol, period=period))\n",
    "        #return '$'+str((data_BSS['inventory'].iloc[0])/1000000)+\"M\"\n",
    "        return data_BSS['inventory'].iloc[0]\n",
    "    except Exception as e:\n",
    "        print(f\"Unexpected error: {e}\")\n",
    "        return \"FAIL\"\n",
    "\n",
    "\n",
    "def get_latest_earnings_transcript(ticker):\n",
    "    apikey = '2723105eaade3c1ca8d66ca5c567b590'\n",
    "\n",
    "    url = f'https://financialmodelingprep.com/api/v3/earning_call_transcript/{ticker}?apikey={apikey}'\n",
    "\n",
    "    try:\n",
    "        data = get_data_url(url)\n",
    "        date_latest=pd.to_datetime(data[\"date\"].iloc[0])\n",
    "        date_next=date_latest + relativedelta(months=3)\n",
    "        transcript=data['content'].iloc[0]\n",
    "        return transcript, date_next\n",
    "    except Exception as e:\n",
    "        print(f\"Unexpected error: {e}\")\n",
    "        return \"FAIL\"\n",
    "\n",
    "def return_company_profile(tck):\n",
    "    # Get company profile and industry from the ticker\n",
    "    company_info = fmpsdk.company_profile(symbol=tck, apikey='2723105eaade3c1ca8d66ca5c567b590')\n",
    "    try:\n",
    "        return pd.DataFrame([company_info[0]])\n",
    "    except Exception as e:\n",
    "        print(f\"Unexpected error: {e}\")\n",
    "        return pd.DataFrame([{'companyName': 'FAIL', 'industry': 'FAIL'}])\n",
    "\n",
    "def new_executive(tck):\n",
    "    return 'in dev.'\n",
    "\n",
    "def credit_rating(tck):\n",
    "    \n",
    "    file_2023='https://raw.githubusercontent.com/alexandre-tcc/target-client_tracking/refs/heads/main/TCC%20companies%20mapping%2010142024.csv'\n",
    "    file_2025='https://raw.githubusercontent.com/alexandre-tcc/target-client_tracking/refs/heads/main/TCC%20Pre-qualified%20Targets%20202504421.csv'\n",
    "    \n",
    "    df_2023=pd.read_csv(file_2023)\n",
    "    df_2025=pd.read_csv(file_2025)\n",
    "    \n",
    "    df_rating_filtered_2025=df_2025[df_2025['ticker']==tck]\n",
    "\n",
    "    if df_rating_filtered_2025.empty:\n",
    "        df_rating_filtered_2023=df_2023[df_2023['ticker']==tck]\n",
    "        if df_rating_filtered_2023.empty:\n",
    "            return 'Need Manual research'\n",
    "        else:\n",
    "            return df_rating_filtered_2023['S&P rating'].iloc[0]\n",
    "    else:\n",
    "        return df_rating_filtered_2025['S&P rating'].iloc[0]"
   ]
  },
  {
   "cell_type": "markdown",
   "id": "99fbdc4b",
   "metadata": {
    "id": "Zx5Q4hquQIaw"
   },
   "source": [
    "Output functions"
   ]
  },
  {
   "cell_type": "code",
   "execution_count": null,
   "id": "215b2d45",
   "metadata": {
    "id": "dad6de7c"
   },
   "outputs": [],
   "source": [
    "def generate_table(lst_tck):\n",
    "    df_rtr = pd.DataFrame(columns=['Company Name', 'Ticker', 'Industry', 'Stock Trend (7days)', 'Inventory ($)', 'S&P Rating (2023)','Next Earnings', 'Latest Earnings Presentation','Exec. Update'])\n",
    "    for tck in tqdm(lst_tck, desc=\"Progress\", unit=\"ticker\"):\n",
    "        company_profil=return_company_profile(tck)\n",
    "        data_earning_=get_latest_earnings_transcript(tck)\n",
    "\n",
    "        stock_trend=stock_price(tck)\n",
    "        next_call=data_earning_[1]\n",
    "        transcript=data_earning_[0]\n",
    "        inventory=data_inventory(tck, 'annual')\n",
    "        company_name=company_profil['companyName'].iloc[0]\n",
    "        company_industry=company_profil['industry'].iloc[0]\n",
    "        credit_SnP=credit_rating(tck)\n",
    "        exec_update=new_executive(tck)\n",
    "\n",
    "        df_rtr.loc[len(df_rtr)]=[company_name, tck, company_industry, stock_trend, inventory, credit_SnP, next_call, transcript, exec_update]\n",
    "\n",
    "    #df_rtr.to_excel('Target List Intelligence.xlsx', index=False)\n",
    "    return df_rtr\n",
    "\n",
    "\n",
    "def generate_output(list_tck):\n",
    "    df=generate_table(list_tck)\n",
    "    with pd.ExcelWriter('Target List Intelligence.xlsx', engine='openpyxl') as writer:\n",
    "        df.to_excel(writer, index=False, sheet_name='Target List')\n",
    "        worksheet = writer.sheets['Target List']\n",
    "\n",
    "        for i in range(len(df.columns)):\n",
    "            col_letter = get_column_letter(i + 1)  # 1-based indexing\n",
    "            worksheet.column_dimensions[col_letter].width = 25  # or any width you want\n",
    "    files.download('Target List Intelligence.xlsx')"
   ]
  },
  {
   "cell_type": "markdown",
   "id": "c578a2c0",
   "metadata": {
    "id": "i0M-uX0tPnwB"
   },
   "source": [
    "# **Run Program**\n",
    "## You can add/remove tickers from this list\n",
    "## Generated file will automatically be downloaded"
   ]
  },
  {
   "cell_type": "code",
   "execution_count": null,
   "id": "53300cc4",
   "metadata": {
    "colab": {
     "base_uri": "https://localhost:8080/",
     "height": 35
    },
    "id": "c56b2175",
    "outputId": "e03f319a-9250-4bd8-c3c7-6c05811b2c32"
   },
   "outputs": [],
   "source": [
    "tickers = ['MSFT', 'TSLA', 'AAPL', 'GOOG', 'AMZN', 'META', 'NVDA', 'BRK.B', 'JPM', 'UNH']\n",
    "\n",
    "generate_output(tickers)"
   ]
  },
  {
   "cell_type": "markdown",
   "id": "ece21fdf",
   "metadata": {
    "id": "1909d881"
   },
   "source": [
    "# Git COMMIT (DO NOT RUN)"
   ]
  },
  {
   "cell_type": "code",
   "execution_count": 10,
   "id": "b59b22ba",
   "metadata": {
    "colab": {
     "base_uri": "https://localhost:8080/"
    },
    "id": "c9c9c55f",
    "outputId": "64b3c573-8c6f-4540-b7b8-98a36664c0e6"
   },
   "outputs": [
    {
     "name": "stderr",
     "output_type": "stream",
     "text": [
      "warning: in the working copy of '.ipynb_checkpoints/Sales_target_tracking-checkpoint.ipynb', LF will be replaced by CRLF the next time Git touches it\n",
      "warning: in the working copy of 'Sales_target_tracking.ipynb', LF will be replaced by CRLF the next time Git touches it\n",
      "warning: in the working copy of 'TCC Pre-qualified Targets 202504421.csv', LF will be replaced by CRLF the next time Git touches it\n"
     ]
    }
   ],
   "source": [
    "!git add .\n"
   ]
  },
  {
   "cell_type": "code",
   "execution_count": 11,
   "id": "060be49d",
   "metadata": {
    "id": "af02ff01",
    "outputId": "53be2296-32e7-4435-c82c-f6024aedf92c"
   },
   "outputs": [
    {
     "name": "stdout",
     "output_type": "stream",
     "text": [
      "[main 52d8050] new columns to the DF\n",
      " 3 files changed, 1222 insertions(+), 613 deletions(-)\n",
      " create mode 100644 TCC Pre-qualified Targets 202504421.csv\n"
     ]
    }
   ],
   "source": [
    "!git commit -m \"new columns to the DF\"\n"
   ]
  },
  {
   "cell_type": "code",
   "execution_count": 12,
   "id": "668966aa",
   "metadata": {
    "id": "14156b37",
    "outputId": "26c8e067-d335-4161-db71-a3fc2ed98633"
   },
   "outputs": [
    {
     "name": "stderr",
     "output_type": "stream",
     "text": [
      "To https://github.com/alexandre-tcc/target-client_tracking.git\n",
      "   3111022..52d8050  main -> main\n"
     ]
    }
   ],
   "source": [
    "!git push origin main\n"
   ]
  },
  {
   "cell_type": "code",
   "execution_count": null,
   "id": "feb2ce69",
   "metadata": {
    "id": "34b71bb5"
   },
   "outputs": [],
   "source": []
  }
 ],
 "metadata": {
  "colab": {
   "provenance": []
  },
  "kernelspec": {
   "display_name": "Python 3.12.1",
   "language": "python",
   "name": "python312"
  },
  "language_info": {
   "codemirror_mode": {
    "name": "ipython",
    "version": 3
   },
   "file_extension": ".py",
   "mimetype": "text/x-python",
   "name": "python",
   "nbconvert_exporter": "python",
   "pygments_lexer": "ipython3",
   "version": "3.12.4"
  }
 },
 "nbformat": 4,
 "nbformat_minor": 5
}
